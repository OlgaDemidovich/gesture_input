{
 "cells": [
  {
   "cell_type": "code",
   "execution_count": 1,
   "metadata": {
    "id": "igMyGnjE9hEp"
   },
   "outputs": [],
   "source": [
    "import csv\n",
    "\n",
    "import numpy as np\n",
    "import tensorflow as tf\n",
    "from sklearn.model_selection import train_test_split\n",
    "\n",
    "RANDOM_SEED = 42"
   ]
  },
  {
   "cell_type": "markdown",
   "metadata": {
    "id": "t2HDvhIu9hEr"
   },
   "source": [
    "# Specify each path"
   ]
  },
  {
   "cell_type": "code",
   "execution_count": 2,
   "metadata": {
    "id": "9NvZP2Zn9hEy"
   },
   "outputs": [],
   "source": [
    "dataset = 'model/keypoint_classifier/keypoint.csv'\n",
    "model_save_path = 'model/keypoint_classifier/keypoint_classifier.hdf5'\n",
    "tflite_save_path = 'model/keypoint_classifier/keypoint_classifier.tflite'"
   ]
  },
  {
   "cell_type": "markdown",
   "metadata": {
    "id": "s5oMH7x19hEz"
   },
   "source": [
    "# Set number of classes"
   ]
  },
  {
   "cell_type": "code",
   "execution_count": 3,
   "metadata": {
    "id": "du4kodXL9hEz"
   },
   "outputs": [],
   "source": [
    "NUM_CLASSES = 5"
   ]
  },
  {
   "cell_type": "markdown",
   "metadata": {
    "id": "XjnL0uso9hEz"
   },
   "source": [
    "# Dataset reading"
   ]
  },
  {
   "cell_type": "code",
   "execution_count": 4,
   "metadata": {
    "id": "QT5ZqtEz9hE0"
   },
   "outputs": [],
   "source": [
    "X_dataset = np.loadtxt(dataset, delimiter=',', dtype='float32', usecols=list(range(1, (21 * 2) + 1)))"
   ]
  },
  {
   "cell_type": "code",
   "execution_count": 5,
   "metadata": {
    "id": "QmoKFsp49hE0"
   },
   "outputs": [],
   "source": [
    "y_dataset = np.loadtxt(dataset, delimiter=',', dtype='int32', usecols=(0))"
   ]
  },
  {
   "cell_type": "code",
   "execution_count": 6,
   "metadata": {
    "id": "xQU7JTZ_9hE0"
   },
   "outputs": [],
   "source": [
    "X_train, X_test, y_train, y_test = train_test_split(X_dataset, y_dataset, train_size=0.75, random_state=RANDOM_SEED)"
   ]
  },
  {
   "cell_type": "markdown",
   "metadata": {
    "id": "mxK_lETT9hE0"
   },
   "source": [
    "# Model building"
   ]
  },
  {
   "cell_type": "code",
   "execution_count": 7,
   "metadata": {
    "id": "vHBmUf1t9hE1"
   },
   "outputs": [],
   "source": [
    "model = tf.keras.models.Sequential([\n",
    "    tf.keras.layers.Input((21 * 2, )),\n",
    "    tf.keras.layers.Dropout(0.2),\n",
    "    tf.keras.layers.Dense(20, activation='relu'),\n",
    "    tf.keras.layers.Dropout(0.4),\n",
    "    tf.keras.layers.Dense(10, activation='relu'),\n",
    "    tf.keras.layers.Dense(NUM_CLASSES, activation='softmax')\n",
    "])"
   ]
  },
  {
   "cell_type": "code",
   "execution_count": 8,
   "metadata": {
    "colab": {
     "base_uri": "https://localhost:8080/"
    },
    "id": "ypqky9tc9hE1",
    "outputId": "5db082bb-30e3-4110-bf63-a1ee777ecd46"
   },
   "outputs": [
    {
     "name": "stdout",
     "output_type": "stream",
     "text": [
      "Model: \"sequential\"\n",
      "_________________________________________________________________\n",
      "Layer (type)                 Output Shape              Param #   \n",
      "=================================================================\n",
      "dropout (Dropout)            (None, 42)                0         \n",
      "_________________________________________________________________\n",
      "dense (Dense)                (None, 20)                860       \n",
      "_________________________________________________________________\n",
      "dropout_1 (Dropout)          (None, 20)                0         \n",
      "_________________________________________________________________\n",
      "dense_1 (Dense)              (None, 10)                210       \n",
      "_________________________________________________________________\n",
      "dense_2 (Dense)              (None, 5)                 55        \n",
      "=================================================================\n",
      "Total params: 1,125\n",
      "Trainable params: 1,125\n",
      "Non-trainable params: 0\n",
      "_________________________________________________________________\n"
     ]
    }
   ],
   "source": [
    "model.summary()  # tf.keras.utils.plot_model(model, show_shapes=True)"
   ]
  },
  {
   "cell_type": "code",
   "execution_count": 9,
   "metadata": {
    "id": "MbMjOflQ9hE1"
   },
   "outputs": [],
   "source": [
    "# Model checkpoint callback\n",
    "cp_callback = tf.keras.callbacks.ModelCheckpoint(\n",
    "    model_save_path, verbose=1, save_weights_only=False)\n",
    "# Callback for early stopping\n",
    "es_callback = tf.keras.callbacks.EarlyStopping(patience=20, verbose=1)"
   ]
  },
  {
   "cell_type": "code",
   "execution_count": 10,
   "metadata": {
    "id": "c3Dac0M_9hE2"
   },
   "outputs": [],
   "source": [
    "# Model compilation\n",
    "model.compile(\n",
    "    optimizer='adam',\n",
    "    loss='sparse_categorical_crossentropy',\n",
    "    metrics=['accuracy']\n",
    ")"
   ]
  },
  {
   "cell_type": "markdown",
   "metadata": {
    "id": "7XI0j1Iu9hE2"
   },
   "source": [
    "# Model training"
   ]
  },
  {
   "cell_type": "code",
   "execution_count": 11,
   "metadata": {
    "colab": {
     "base_uri": "https://localhost:8080/"
    },
    "id": "WirBl-JE9hE3",
    "outputId": "71b30ca2-8294-4d9d-8aa2-800d90d399de",
    "scrolled": true
   },
   "outputs": [
    {
     "name": "stdout",
     "output_type": "stream",
     "text": [
      "Epoch 1/1000\n",
      "29/29 [==============================] - 1s 12ms/step - loss: 1.6851 - accuracy: 0.2022 - val_loss: 1.5658 - val_accuracy: 0.2571\n",
      "\n",
      "Epoch 00001: saving model to model/keypoint_classifier\\keypoint_classifier.hdf5\n",
      "Epoch 2/1000\n",
      "29/29 [==============================] - 0s 4ms/step - loss: 1.5480 - accuracy: 0.2877 - val_loss: 1.4633 - val_accuracy: 0.3369\n",
      "\n",
      "Epoch 00002: saving model to model/keypoint_classifier\\keypoint_classifier.hdf5\n",
      "Epoch 3/1000\n",
      "29/29 [==============================] - 0s 3ms/step - loss: 1.4415 - accuracy: 0.3439 - val_loss: 1.3534 - val_accuracy: 0.4312\n",
      "\n",
      "Epoch 00003: saving model to model/keypoint_classifier\\keypoint_classifier.hdf5\n",
      "Epoch 4/1000\n",
      "29/29 [==============================] - 0s 4ms/step - loss: 1.3555 - accuracy: 0.4066 - val_loss: 1.2656 - val_accuracy: 0.5639\n",
      "\n",
      "Epoch 00004: saving model to model/keypoint_classifier\\keypoint_classifier.hdf5\n",
      "Epoch 5/1000\n",
      "29/29 [==============================] - 0s 4ms/step - loss: 1.2817 - accuracy: 0.4609 - val_loss: 1.1887 - val_accuracy: 0.5875\n",
      "\n",
      "Epoch 00005: saving model to model/keypoint_classifier\\keypoint_classifier.hdf5\n",
      "Epoch 6/1000\n",
      "29/29 [==============================] - 0s 3ms/step - loss: 1.2363 - accuracy: 0.4718 - val_loss: 1.1172 - val_accuracy: 0.6151\n",
      "\n",
      "Epoch 00006: saving model to model/keypoint_classifier\\keypoint_classifier.hdf5\n",
      "Epoch 7/1000\n",
      "29/29 [==============================] - 0s 4ms/step - loss: 1.1715 - accuracy: 0.5073 - val_loss: 1.0364 - val_accuracy: 0.6501\n",
      "\n",
      "Epoch 00007: saving model to model/keypoint_classifier\\keypoint_classifier.hdf5\n",
      "Epoch 8/1000\n",
      "29/29 [==============================] - 0s 4ms/step - loss: 1.1170 - accuracy: 0.5402 - val_loss: 0.9633 - val_accuracy: 0.6827\n",
      "\n",
      "Epoch 00008: saving model to model/keypoint_classifier\\keypoint_classifier.hdf5\n",
      "Epoch 9/1000\n",
      "29/29 [==============================] - 0s 3ms/step - loss: 1.0647 - accuracy: 0.5605 - val_loss: 0.8955 - val_accuracy: 0.6949\n",
      "\n",
      "Epoch 00009: saving model to model/keypoint_classifier\\keypoint_classifier.hdf5\n",
      "Epoch 10/1000\n",
      "29/29 [==============================] - 0s 3ms/step - loss: 1.0289 - accuracy: 0.5592 - val_loss: 0.8501 - val_accuracy: 0.7014\n",
      "\n",
      "Epoch 00010: saving model to model/keypoint_classifier\\keypoint_classifier.hdf5\n",
      "Epoch 11/1000\n",
      "29/29 [==============================] - 0s 3ms/step - loss: 0.9950 - accuracy: 0.5801 - val_loss: 0.8033 - val_accuracy: 0.7128\n",
      "\n",
      "Epoch 00011: saving model to model/keypoint_classifier\\keypoint_classifier.hdf5\n",
      "Epoch 12/1000\n",
      "29/29 [==============================] - 0s 3ms/step - loss: 0.9694 - accuracy: 0.5860 - val_loss: 0.7677 - val_accuracy: 0.7380\n",
      "\n",
      "Epoch 00012: saving model to model/keypoint_classifier\\keypoint_classifier.hdf5\n",
      "Epoch 13/1000\n",
      "29/29 [==============================] - 0s 4ms/step - loss: 0.9461 - accuracy: 0.5950 - val_loss: 0.7311 - val_accuracy: 0.7453\n",
      "\n",
      "Epoch 00013: saving model to model/keypoint_classifier\\keypoint_classifier.hdf5\n",
      "Epoch 14/1000\n",
      "29/29 [==============================] - 0s 4ms/step - loss: 0.9127 - accuracy: 0.6107 - val_loss: 0.6989 - val_accuracy: 0.7559\n",
      "\n",
      "Epoch 00014: saving model to model/keypoint_classifier\\keypoint_classifier.hdf5\n",
      "Epoch 15/1000\n",
      "29/29 [==============================] - 0s 3ms/step - loss: 0.8986 - accuracy: 0.6251 - val_loss: 0.6749 - val_accuracy: 0.7592\n",
      "\n",
      "Epoch 00015: saving model to model/keypoint_classifier\\keypoint_classifier.hdf5\n",
      "Epoch 16/1000\n",
      "29/29 [==============================] - 0s 3ms/step - loss: 0.8719 - accuracy: 0.6365 - val_loss: 0.6421 - val_accuracy: 0.7925\n",
      "\n",
      "Epoch 00016: saving model to model/keypoint_classifier\\keypoint_classifier.hdf5\n",
      "Epoch 17/1000\n",
      "29/29 [==============================] - 0s 4ms/step - loss: 0.8649 - accuracy: 0.6382 - val_loss: 0.6186 - val_accuracy: 0.8194\n",
      "\n",
      "Epoch 00017: saving model to model/keypoint_classifier\\keypoint_classifier.hdf5\n",
      "Epoch 18/1000\n",
      "29/29 [==============================] - 0s 4ms/step - loss: 0.8296 - accuracy: 0.6520 - val_loss: 0.5974 - val_accuracy: 0.8332\n",
      "\n",
      "Epoch 00018: saving model to model/keypoint_classifier\\keypoint_classifier.hdf5\n",
      "Epoch 19/1000\n",
      "29/29 [==============================] - 0s 3ms/step - loss: 0.8262 - accuracy: 0.6569 - val_loss: 0.5755 - val_accuracy: 0.8421\n",
      "\n",
      "Epoch 00019: saving model to model/keypoint_classifier\\keypoint_classifier.hdf5\n",
      "Epoch 20/1000\n",
      "29/29 [==============================] - 0s 4ms/step - loss: 0.8115 - accuracy: 0.6678 - val_loss: 0.5603 - val_accuracy: 0.8560\n",
      "\n",
      "Epoch 00020: saving model to model/keypoint_classifier\\keypoint_classifier.hdf5\n",
      "Epoch 21/1000\n",
      "29/29 [==============================] - 0s 4ms/step - loss: 0.8232 - accuracy: 0.6642 - val_loss: 0.5522 - val_accuracy: 0.8592\n",
      "\n",
      "Epoch 00021: saving model to model/keypoint_classifier\\keypoint_classifier.hdf5\n",
      "Epoch 22/1000\n",
      "29/29 [==============================] - 0s 3ms/step - loss: 0.7882 - accuracy: 0.6729 - val_loss: 0.5326 - val_accuracy: 0.8690\n",
      "\n",
      "Epoch 00022: saving model to model/keypoint_classifier\\keypoint_classifier.hdf5\n",
      "Epoch 23/1000\n",
      "29/29 [==============================] - 0s 3ms/step - loss: 0.7771 - accuracy: 0.6868 - val_loss: 0.5179 - val_accuracy: 0.8674\n",
      "\n",
      "Epoch 00023: saving model to model/keypoint_classifier\\keypoint_classifier.hdf5\n",
      "Epoch 24/1000\n",
      "29/29 [==============================] - 0s 4ms/step - loss: 0.7764 - accuracy: 0.6792 - val_loss: 0.5070 - val_accuracy: 0.8731\n",
      "\n",
      "Epoch 00024: saving model to model/keypoint_classifier\\keypoint_classifier.hdf5\n",
      "Epoch 25/1000\n",
      "29/29 [==============================] - 0s 3ms/step - loss: 0.7469 - accuracy: 0.6938 - val_loss: 0.4957 - val_accuracy: 0.8796\n",
      "\n",
      "Epoch 00025: saving model to model/keypoint_classifier\\keypoint_classifier.hdf5\n",
      "Epoch 26/1000\n",
      "29/29 [==============================] - 0s 3ms/step - loss: 0.7445 - accuracy: 0.7055 - val_loss: 0.4832 - val_accuracy: 0.8820\n",
      "\n",
      "Epoch 00026: saving model to model/keypoint_classifier\\keypoint_classifier.hdf5\n",
      "Epoch 27/1000\n",
      "29/29 [==============================] - 0s 3ms/step - loss: 0.7206 - accuracy: 0.7022 - val_loss: 0.4678 - val_accuracy: 0.8845\n",
      "\n",
      "Epoch 00027: saving model to model/keypoint_classifier\\keypoint_classifier.hdf5\n",
      "Epoch 28/1000\n",
      "29/29 [==============================] - 0s 4ms/step - loss: 0.7201 - accuracy: 0.7139 - val_loss: 0.4593 - val_accuracy: 0.8861\n",
      "\n",
      "Epoch 00028: saving model to model/keypoint_classifier\\keypoint_classifier.hdf5\n",
      "Epoch 29/1000\n",
      "29/29 [==============================] - 0s 3ms/step - loss: 0.7160 - accuracy: 0.7166 - val_loss: 0.4483 - val_accuracy: 0.8893\n",
      "\n",
      "Epoch 00029: saving model to model/keypoint_classifier\\keypoint_classifier.hdf5\n",
      "Epoch 30/1000\n",
      "29/29 [==============================] - 0s 3ms/step - loss: 0.7252 - accuracy: 0.7020 - val_loss: 0.4440 - val_accuracy: 0.8893\n",
      "\n",
      "Epoch 00030: saving model to model/keypoint_classifier\\keypoint_classifier.hdf5\n",
      "Epoch 31/1000\n",
      "29/29 [==============================] - 0s 4ms/step - loss: 0.7080 - accuracy: 0.7125 - val_loss: 0.4357 - val_accuracy: 0.8918\n",
      "\n",
      "Epoch 00031: saving model to model/keypoint_classifier\\keypoint_classifier.hdf5\n",
      "Epoch 32/1000\n",
      "29/29 [==============================] - 0s 3ms/step - loss: 0.7114 - accuracy: 0.7131 - val_loss: 0.4285 - val_accuracy: 0.8975\n",
      "\n",
      "Epoch 00032: saving model to model/keypoint_classifier\\keypoint_classifier.hdf5\n",
      "Epoch 33/1000\n",
      "29/29 [==============================] - 0s 3ms/step - loss: 0.6883 - accuracy: 0.7272 - val_loss: 0.4252 - val_accuracy: 0.8902\n",
      "\n",
      "Epoch 00033: saving model to model/keypoint_classifier\\keypoint_classifier.hdf5\n",
      "Epoch 34/1000\n",
      "29/29 [==============================] - 0s 3ms/step - loss: 0.6882 - accuracy: 0.7280 - val_loss: 0.4137 - val_accuracy: 0.8975\n",
      "\n",
      "Epoch 00034: saving model to model/keypoint_classifier\\keypoint_classifier.hdf5\n",
      "Epoch 35/1000\n",
      "29/29 [==============================] - 0s 5ms/step - loss: 0.6825 - accuracy: 0.7324 - val_loss: 0.4101 - val_accuracy: 0.8983\n",
      "\n",
      "Epoch 00035: saving model to model/keypoint_classifier\\keypoint_classifier.hdf5\n",
      "Epoch 36/1000\n",
      "29/29 [==============================] - 0s 3ms/step - loss: 0.6681 - accuracy: 0.7364 - val_loss: 0.4019 - val_accuracy: 0.9032\n",
      "\n",
      "Epoch 00036: saving model to model/keypoint_classifier\\keypoint_classifier.hdf5\n",
      "Epoch 37/1000\n",
      "29/29 [==============================] - 0s 3ms/step - loss: 0.6703 - accuracy: 0.7337 - val_loss: 0.4027 - val_accuracy: 0.8926\n"
     ]
    },
    {
     "name": "stdout",
     "output_type": "stream",
     "text": [
      "\n",
      "Epoch 00037: saving model to model/keypoint_classifier\\keypoint_classifier.hdf5\n",
      "Epoch 38/1000\n",
      "29/29 [==============================] - 0s 4ms/step - loss: 0.6655 - accuracy: 0.7375 - val_loss: 0.3931 - val_accuracy: 0.8967\n",
      "\n",
      "Epoch 00038: saving model to model/keypoint_classifier\\keypoint_classifier.hdf5\n",
      "Epoch 39/1000\n",
      "29/29 [==============================] - 0s 3ms/step - loss: 0.6672 - accuracy: 0.7391 - val_loss: 0.3858 - val_accuracy: 0.8991\n",
      "\n",
      "Epoch 00039: saving model to model/keypoint_classifier\\keypoint_classifier.hdf5\n",
      "Epoch 40/1000\n",
      "29/29 [==============================] - 0s 4ms/step - loss: 0.6403 - accuracy: 0.7503 - val_loss: 0.3839 - val_accuracy: 0.9007\n",
      "\n",
      "Epoch 00040: saving model to model/keypoint_classifier\\keypoint_classifier.hdf5\n",
      "Epoch 41/1000\n",
      "29/29 [==============================] - 0s 3ms/step - loss: 0.6264 - accuracy: 0.7579 - val_loss: 0.3701 - val_accuracy: 0.9040\n",
      "\n",
      "Epoch 00041: saving model to model/keypoint_classifier\\keypoint_classifier.hdf5\n",
      "Epoch 42/1000\n",
      "29/29 [==============================] - 0s 4ms/step - loss: 0.6313 - accuracy: 0.7495 - val_loss: 0.3671 - val_accuracy: 0.9015\n",
      "\n",
      "Epoch 00042: saving model to model/keypoint_classifier\\keypoint_classifier.hdf5\n",
      "Epoch 43/1000\n",
      "29/29 [==============================] - 0s 4ms/step - loss: 0.6361 - accuracy: 0.7473 - val_loss: 0.3659 - val_accuracy: 0.9024\n",
      "\n",
      "Epoch 00043: saving model to model/keypoint_classifier\\keypoint_classifier.hdf5\n",
      "Epoch 44/1000\n",
      "29/29 [==============================] - 0s 4ms/step - loss: 0.6305 - accuracy: 0.7533 - val_loss: 0.3584 - val_accuracy: 0.9081\n",
      "\n",
      "Epoch 00044: saving model to model/keypoint_classifier\\keypoint_classifier.hdf5\n",
      "Epoch 45/1000\n",
      "29/29 [==============================] - 0s 4ms/step - loss: 0.6369 - accuracy: 0.7552 - val_loss: 0.3541 - val_accuracy: 0.9154\n",
      "\n",
      "Epoch 00045: saving model to model/keypoint_classifier\\keypoint_classifier.hdf5\n",
      "Epoch 46/1000\n",
      "29/29 [==============================] - 0s 4ms/step - loss: 0.6370 - accuracy: 0.7489 - val_loss: 0.3510 - val_accuracy: 0.9170\n",
      "\n",
      "Epoch 00046: saving model to model/keypoint_classifier\\keypoint_classifier.hdf5\n",
      "Epoch 47/1000\n",
      "29/29 [==============================] - 0s 3ms/step - loss: 0.6176 - accuracy: 0.7573 - val_loss: 0.3480 - val_accuracy: 0.9113\n",
      "\n",
      "Epoch 00047: saving model to model/keypoint_classifier\\keypoint_classifier.hdf5\n",
      "Epoch 48/1000\n",
      "29/29 [==============================] - 0s 4ms/step - loss: 0.6197 - accuracy: 0.7535 - val_loss: 0.3438 - val_accuracy: 0.9186\n",
      "\n",
      "Epoch 00048: saving model to model/keypoint_classifier\\keypoint_classifier.hdf5\n",
      "Epoch 49/1000\n",
      "29/29 [==============================] - 0s 3ms/step - loss: 0.6362 - accuracy: 0.7503 - val_loss: 0.3474 - val_accuracy: 0.9194\n",
      "\n",
      "Epoch 00049: saving model to model/keypoint_classifier\\keypoint_classifier.hdf5\n",
      "Epoch 50/1000\n",
      "29/29 [==============================] - 0s 3ms/step - loss: 0.6335 - accuracy: 0.7595 - val_loss: 0.3436 - val_accuracy: 0.9170\n",
      "\n",
      "Epoch 00050: saving model to model/keypoint_classifier\\keypoint_classifier.hdf5\n",
      "Epoch 51/1000\n",
      "29/29 [==============================] - 0s 4ms/step - loss: 0.6225 - accuracy: 0.7554 - val_loss: 0.3378 - val_accuracy: 0.9260\n",
      "\n",
      "Epoch 00051: saving model to model/keypoint_classifier\\keypoint_classifier.hdf5\n",
      "Epoch 52/1000\n",
      "29/29 [==============================] - 0s 4ms/step - loss: 0.6335 - accuracy: 0.7481 - val_loss: 0.3434 - val_accuracy: 0.9162\n",
      "\n",
      "Epoch 00052: saving model to model/keypoint_classifier\\keypoint_classifier.hdf5\n",
      "Epoch 53/1000\n",
      "29/29 [==============================] - 0s 3ms/step - loss: 0.6105 - accuracy: 0.7704 - val_loss: 0.3309 - val_accuracy: 0.9235\n",
      "\n",
      "Epoch 00053: saving model to model/keypoint_classifier\\keypoint_classifier.hdf5\n",
      "Epoch 54/1000\n",
      "29/29 [==============================] - 0s 3ms/step - loss: 0.6192 - accuracy: 0.7666 - val_loss: 0.3289 - val_accuracy: 0.9211\n",
      "\n",
      "Epoch 00054: saving model to model/keypoint_classifier\\keypoint_classifier.hdf5\n",
      "Epoch 55/1000\n",
      "29/29 [==============================] - 0s 4ms/step - loss: 0.6045 - accuracy: 0.7565 - val_loss: 0.3248 - val_accuracy: 0.9317\n",
      "\n",
      "Epoch 00055: saving model to model/keypoint_classifier\\keypoint_classifier.hdf5\n",
      "Epoch 56/1000\n",
      "29/29 [==============================] - 0s 4ms/step - loss: 0.6179 - accuracy: 0.7679 - val_loss: 0.3310 - val_accuracy: 0.9235\n",
      "\n",
      "Epoch 00056: saving model to model/keypoint_classifier\\keypoint_classifier.hdf5\n",
      "Epoch 57/1000\n",
      "29/29 [==============================] - 0s 3ms/step - loss: 0.6035 - accuracy: 0.7725 - val_loss: 0.3229 - val_accuracy: 0.9308\n",
      "\n",
      "Epoch 00057: saving model to model/keypoint_classifier\\keypoint_classifier.hdf5\n",
      "Epoch 58/1000\n",
      "29/29 [==============================] - 0s 4ms/step - loss: 0.6032 - accuracy: 0.7671 - val_loss: 0.3253 - val_accuracy: 0.9268\n",
      "\n",
      "Epoch 00058: saving model to model/keypoint_classifier\\keypoint_classifier.hdf5\n",
      "Epoch 59/1000\n",
      "29/29 [==============================] - 0s 4ms/step - loss: 0.5866 - accuracy: 0.7706 - val_loss: 0.3185 - val_accuracy: 0.9292\n",
      "\n",
      "Epoch 00059: saving model to model/keypoint_classifier\\keypoint_classifier.hdf5\n",
      "Epoch 60/1000\n",
      "29/29 [==============================] - 0s 4ms/step - loss: 0.6103 - accuracy: 0.7622 - val_loss: 0.3204 - val_accuracy: 0.9243\n",
      "\n",
      "Epoch 00060: saving model to model/keypoint_classifier\\keypoint_classifier.hdf5\n",
      "Epoch 61/1000\n",
      "29/29 [==============================] - 0s 3ms/step - loss: 0.5941 - accuracy: 0.7641 - val_loss: 0.3214 - val_accuracy: 0.9292\n",
      "\n",
      "Epoch 00061: saving model to model/keypoint_classifier\\keypoint_classifier.hdf5\n",
      "Epoch 62/1000\n",
      "29/29 [==============================] - 0s 4ms/step - loss: 0.5700 - accuracy: 0.7793 - val_loss: 0.3120 - val_accuracy: 0.9317\n",
      "\n",
      "Epoch 00062: saving model to model/keypoint_classifier\\keypoint_classifier.hdf5\n",
      "Epoch 63/1000\n",
      "29/29 [==============================] - 0s 4ms/step - loss: 0.5816 - accuracy: 0.7723 - val_loss: 0.3101 - val_accuracy: 0.9300\n",
      "\n",
      "Epoch 00063: saving model to model/keypoint_classifier\\keypoint_classifier.hdf5\n",
      "Epoch 64/1000\n",
      "29/29 [==============================] - 0s 4ms/step - loss: 0.5842 - accuracy: 0.7769 - val_loss: 0.3122 - val_accuracy: 0.9300\n",
      "\n",
      "Epoch 00064: saving model to model/keypoint_classifier\\keypoint_classifier.hdf5\n",
      "Epoch 65/1000\n",
      "29/29 [==============================] - 0s 4ms/step - loss: 0.5853 - accuracy: 0.7733 - val_loss: 0.3099 - val_accuracy: 0.9341\n",
      "\n",
      "Epoch 00065: saving model to model/keypoint_classifier\\keypoint_classifier.hdf5\n",
      "Epoch 66/1000\n",
      "29/29 [==============================] - 0s 4ms/step - loss: 0.5740 - accuracy: 0.7649 - val_loss: 0.3068 - val_accuracy: 0.9341\n",
      "\n",
      "Epoch 00066: saving model to model/keypoint_classifier\\keypoint_classifier.hdf5\n",
      "Epoch 67/1000\n",
      "29/29 [==============================] - 0s 3ms/step - loss: 0.6051 - accuracy: 0.7682 - val_loss: 0.3030 - val_accuracy: 0.9333\n",
      "\n",
      "Epoch 00067: saving model to model/keypoint_classifier\\keypoint_classifier.hdf5\n",
      "Epoch 68/1000\n",
      "29/29 [==============================] - 0s 3ms/step - loss: 0.5864 - accuracy: 0.7761 - val_loss: 0.3056 - val_accuracy: 0.9333\n",
      "\n",
      "Epoch 00068: saving model to model/keypoint_classifier\\keypoint_classifier.hdf5\n",
      "Epoch 69/1000\n",
      "29/29 [==============================] - 0s 4ms/step - loss: 0.5743 - accuracy: 0.7815 - val_loss: 0.3043 - val_accuracy: 0.9357\n",
      "\n",
      "Epoch 00069: saving model to model/keypoint_classifier\\keypoint_classifier.hdf5\n",
      "Epoch 70/1000\n",
      "29/29 [==============================] - 0s 3ms/step - loss: 0.5949 - accuracy: 0.7679 - val_loss: 0.2998 - val_accuracy: 0.9365\n",
      "\n",
      "Epoch 00070: saving model to model/keypoint_classifier\\keypoint_classifier.hdf5\n",
      "Epoch 71/1000\n",
      "29/29 [==============================] - 0s 4ms/step - loss: 0.5742 - accuracy: 0.7739 - val_loss: 0.2976 - val_accuracy: 0.9382\n",
      "\n",
      "Epoch 00071: saving model to model/keypoint_classifier\\keypoint_classifier.hdf5\n",
      "Epoch 72/1000\n",
      "29/29 [==============================] - 0s 3ms/step - loss: 0.5665 - accuracy: 0.7847 - val_loss: 0.2953 - val_accuracy: 0.9357\n",
      "\n",
      "Epoch 00072: saving model to model/keypoint_classifier\\keypoint_classifier.hdf5\n",
      "Epoch 73/1000\n",
      "29/29 [==============================] - 0s 3ms/step - loss: 0.5604 - accuracy: 0.7953 - val_loss: 0.2911 - val_accuracy: 0.9365\n",
      "\n",
      "Epoch 00073: saving model to model/keypoint_classifier\\keypoint_classifier.hdf5\n",
      "Epoch 74/1000\n"
     ]
    },
    {
     "name": "stdout",
     "output_type": "stream",
     "text": [
      "29/29 [==============================] - 0s 3ms/step - loss: 0.5895 - accuracy: 0.7856 - val_loss: 0.2926 - val_accuracy: 0.9430\n",
      "\n",
      "Epoch 00074: saving model to model/keypoint_classifier\\keypoint_classifier.hdf5\n",
      "Epoch 75/1000\n",
      "29/29 [==============================] - 0s 4ms/step - loss: 0.5811 - accuracy: 0.7755 - val_loss: 0.2934 - val_accuracy: 0.9390\n",
      "\n",
      "Epoch 00075: saving model to model/keypoint_classifier\\keypoint_classifier.hdf5\n",
      "Epoch 76/1000\n",
      "29/29 [==============================] - 0s 4ms/step - loss: 0.5539 - accuracy: 0.7894 - val_loss: 0.2875 - val_accuracy: 0.9422\n",
      "\n",
      "Epoch 00076: saving model to model/keypoint_classifier\\keypoint_classifier.hdf5\n",
      "Epoch 77/1000\n",
      "29/29 [==============================] - 0s 3ms/step - loss: 0.5897 - accuracy: 0.7733 - val_loss: 0.2878 - val_accuracy: 0.9349\n",
      "\n",
      "Epoch 00077: saving model to model/keypoint_classifier\\keypoint_classifier.hdf5\n",
      "Epoch 78/1000\n",
      "29/29 [==============================] - 0s 4ms/step - loss: 0.5642 - accuracy: 0.7847 - val_loss: 0.2839 - val_accuracy: 0.9406\n",
      "\n",
      "Epoch 00078: saving model to model/keypoint_classifier\\keypoint_classifier.hdf5\n",
      "Epoch 79/1000\n",
      "29/29 [==============================] - 0s 4ms/step - loss: 0.5615 - accuracy: 0.7807 - val_loss: 0.2800 - val_accuracy: 0.9390\n",
      "\n",
      "Epoch 00079: saving model to model/keypoint_classifier\\keypoint_classifier.hdf5\n",
      "Epoch 80/1000\n",
      "29/29 [==============================] - 0s 4ms/step - loss: 0.5676 - accuracy: 0.7834 - val_loss: 0.2819 - val_accuracy: 0.9398\n",
      "\n",
      "Epoch 00080: saving model to model/keypoint_classifier\\keypoint_classifier.hdf5\n",
      "Epoch 81/1000\n",
      "29/29 [==============================] - 0s 4ms/step - loss: 0.5584 - accuracy: 0.7850 - val_loss: 0.2800 - val_accuracy: 0.9414\n",
      "\n",
      "Epoch 00081: saving model to model/keypoint_classifier\\keypoint_classifier.hdf5\n",
      "Epoch 82/1000\n",
      "29/29 [==============================] - 0s 4ms/step - loss: 0.5669 - accuracy: 0.7831 - val_loss: 0.2888 - val_accuracy: 0.9382\n",
      "\n",
      "Epoch 00082: saving model to model/keypoint_classifier\\keypoint_classifier.hdf5\n",
      "Epoch 83/1000\n",
      "29/29 [==============================] - 0s 3ms/step - loss: 0.5568 - accuracy: 0.7796 - val_loss: 0.2826 - val_accuracy: 0.9439\n",
      "\n",
      "Epoch 00083: saving model to model/keypoint_classifier\\keypoint_classifier.hdf5\n",
      "Epoch 84/1000\n",
      "29/29 [==============================] - 0s 3ms/step - loss: 0.5620 - accuracy: 0.7839 - val_loss: 0.2730 - val_accuracy: 0.9463\n",
      "\n",
      "Epoch 00084: saving model to model/keypoint_classifier\\keypoint_classifier.hdf5\n",
      "Epoch 85/1000\n",
      "29/29 [==============================] - 0s 4ms/step - loss: 0.5836 - accuracy: 0.7774 - val_loss: 0.2797 - val_accuracy: 0.9414\n",
      "\n",
      "Epoch 00085: saving model to model/keypoint_classifier\\keypoint_classifier.hdf5\n",
      "Epoch 86/1000\n",
      "29/29 [==============================] - 0s 4ms/step - loss: 0.5612 - accuracy: 0.7842 - val_loss: 0.2743 - val_accuracy: 0.9422\n",
      "\n",
      "Epoch 00086: saving model to model/keypoint_classifier\\keypoint_classifier.hdf5\n",
      "Epoch 87/1000\n",
      "29/29 [==============================] - 0s 3ms/step - loss: 0.5536 - accuracy: 0.7837 - val_loss: 0.2803 - val_accuracy: 0.9422\n",
      "\n",
      "Epoch 00087: saving model to model/keypoint_classifier\\keypoint_classifier.hdf5\n",
      "Epoch 88/1000\n",
      "29/29 [==============================] - 0s 4ms/step - loss: 0.5611 - accuracy: 0.7907 - val_loss: 0.2740 - val_accuracy: 0.9414\n",
      "\n",
      "Epoch 00088: saving model to model/keypoint_classifier\\keypoint_classifier.hdf5\n",
      "Epoch 89/1000\n",
      "29/29 [==============================] - 0s 3ms/step - loss: 0.5568 - accuracy: 0.7858 - val_loss: 0.2764 - val_accuracy: 0.9414\n",
      "\n",
      "Epoch 00089: saving model to model/keypoint_classifier\\keypoint_classifier.hdf5\n",
      "Epoch 90/1000\n",
      "29/29 [==============================] - 0s 4ms/step - loss: 0.5580 - accuracy: 0.7823 - val_loss: 0.2737 - val_accuracy: 0.9422\n",
      "\n",
      "Epoch 00090: saving model to model/keypoint_classifier\\keypoint_classifier.hdf5\n",
      "Epoch 91/1000\n",
      "29/29 [==============================] - 0s 4ms/step - loss: 0.5571 - accuracy: 0.7961 - val_loss: 0.2735 - val_accuracy: 0.9455\n",
      "\n",
      "Epoch 00091: saving model to model/keypoint_classifier\\keypoint_classifier.hdf5\n",
      "Epoch 92/1000\n",
      "29/29 [==============================] - 0s 4ms/step - loss: 0.5607 - accuracy: 0.7883 - val_loss: 0.2745 - val_accuracy: 0.9390\n",
      "\n",
      "Epoch 00092: saving model to model/keypoint_classifier\\keypoint_classifier.hdf5\n",
      "Epoch 93/1000\n",
      "29/29 [==============================] - 0s 4ms/step - loss: 0.5530 - accuracy: 0.7858 - val_loss: 0.2699 - val_accuracy: 0.9455\n",
      "\n",
      "Epoch 00093: saving model to model/keypoint_classifier\\keypoint_classifier.hdf5\n",
      "Epoch 94/1000\n",
      "29/29 [==============================] - 0s 4ms/step - loss: 0.5447 - accuracy: 0.7883 - val_loss: 0.2632 - val_accuracy: 0.9471\n",
      "\n",
      "Epoch 00094: saving model to model/keypoint_classifier\\keypoint_classifier.hdf5\n",
      "Epoch 95/1000\n",
      "29/29 [==============================] - 0s 3ms/step - loss: 0.5551 - accuracy: 0.7799 - val_loss: 0.2639 - val_accuracy: 0.9496\n",
      "\n",
      "Epoch 00095: saving model to model/keypoint_classifier\\keypoint_classifier.hdf5\n",
      "Epoch 96/1000\n",
      "29/29 [==============================] - 0s 4ms/step - loss: 0.5395 - accuracy: 0.7975 - val_loss: 0.2666 - val_accuracy: 0.9414\n",
      "\n",
      "Epoch 00096: saving model to model/keypoint_classifier\\keypoint_classifier.hdf5\n",
      "Epoch 97/1000\n",
      "29/29 [==============================] - 0s 4ms/step - loss: 0.5474 - accuracy: 0.7956 - val_loss: 0.2680 - val_accuracy: 0.9439\n",
      "\n",
      "Epoch 00097: saving model to model/keypoint_classifier\\keypoint_classifier.hdf5\n",
      "Epoch 98/1000\n",
      "29/29 [==============================] - 0s 4ms/step - loss: 0.5325 - accuracy: 0.7970 - val_loss: 0.2713 - val_accuracy: 0.9430\n",
      "\n",
      "Epoch 00098: saving model to model/keypoint_classifier\\keypoint_classifier.hdf5\n",
      "Epoch 99/1000\n",
      "29/29 [==============================] - 0s 3ms/step - loss: 0.5505 - accuracy: 0.7812 - val_loss: 0.2617 - val_accuracy: 0.9471\n",
      "\n",
      "Epoch 00099: saving model to model/keypoint_classifier\\keypoint_classifier.hdf5\n",
      "Epoch 100/1000\n",
      "29/29 [==============================] - 0s 4ms/step - loss: 0.5339 - accuracy: 0.7940 - val_loss: 0.2657 - val_accuracy: 0.9422\n",
      "\n",
      "Epoch 00100: saving model to model/keypoint_classifier\\keypoint_classifier.hdf5\n",
      "Epoch 101/1000\n",
      "29/29 [==============================] - 0s 3ms/step - loss: 0.5428 - accuracy: 0.7853 - val_loss: 0.2635 - val_accuracy: 0.9430\n",
      "\n",
      "Epoch 00101: saving model to model/keypoint_classifier\\keypoint_classifier.hdf5\n",
      "Epoch 102/1000\n",
      "29/29 [==============================] - 0s 5ms/step - loss: 0.5331 - accuracy: 0.7951 - val_loss: 0.2605 - val_accuracy: 0.9463\n",
      "\n",
      "Epoch 00102: saving model to model/keypoint_classifier\\keypoint_classifier.hdf5\n",
      "Epoch 103/1000\n",
      "29/29 [==============================] - 0s 4ms/step - loss: 0.5276 - accuracy: 0.8040 - val_loss: 0.2652 - val_accuracy: 0.9447\n",
      "\n",
      "Epoch 00103: saving model to model/keypoint_classifier\\keypoint_classifier.hdf5\n",
      "Epoch 104/1000\n",
      "29/29 [==============================] - 0s 4ms/step - loss: 0.5243 - accuracy: 0.8103 - val_loss: 0.2601 - val_accuracy: 0.9479\n",
      "\n",
      "Epoch 00104: saving model to model/keypoint_classifier\\keypoint_classifier.hdf5\n",
      "Epoch 105/1000\n",
      "29/29 [==============================] - 0s 5ms/step - loss: 0.5253 - accuracy: 0.7970 - val_loss: 0.2624 - val_accuracy: 0.9479\n",
      "\n",
      "Epoch 00105: saving model to model/keypoint_classifier\\keypoint_classifier.hdf5\n",
      "Epoch 106/1000\n",
      "29/29 [==============================] - 0s 4ms/step - loss: 0.5256 - accuracy: 0.7948 - val_loss: 0.2600 - val_accuracy: 0.9447\n",
      "\n",
      "Epoch 00106: saving model to model/keypoint_classifier\\keypoint_classifier.hdf5\n",
      "Epoch 107/1000\n",
      "29/29 [==============================] - 0s 3ms/step - loss: 0.5442 - accuracy: 0.7866 - val_loss: 0.2569 - val_accuracy: 0.9479\n",
      "\n",
      "Epoch 00107: saving model to model/keypoint_classifier\\keypoint_classifier.hdf5\n",
      "Epoch 108/1000\n",
      "29/29 [==============================] - 0s 5ms/step - loss: 0.5367 - accuracy: 0.7945 - val_loss: 0.2568 - val_accuracy: 0.9487\n",
      "\n",
      "Epoch 00108: saving model to model/keypoint_classifier\\keypoint_classifier.hdf5\n",
      "Epoch 109/1000\n",
      "29/29 [==============================] - 0s 4ms/step - loss: 0.5302 - accuracy: 0.8048 - val_loss: 0.2620 - val_accuracy: 0.9439\n",
      "\n",
      "Epoch 00109: saving model to model/keypoint_classifier\\keypoint_classifier.hdf5\n",
      "Epoch 110/1000\n",
      "29/29 [==============================] - 0s 4ms/step - loss: 0.5336 - accuracy: 0.7951 - val_loss: 0.2599 - val_accuracy: 0.9447\n"
     ]
    },
    {
     "name": "stdout",
     "output_type": "stream",
     "text": [
      "\n",
      "Epoch 00110: saving model to model/keypoint_classifier\\keypoint_classifier.hdf5\n",
      "Epoch 111/1000\n",
      "29/29 [==============================] - 0s 4ms/step - loss: 0.5341 - accuracy: 0.7978 - val_loss: 0.2527 - val_accuracy: 0.9504\n",
      "\n",
      "Epoch 00111: saving model to model/keypoint_classifier\\keypoint_classifier.hdf5\n",
      "Epoch 112/1000\n",
      "29/29 [==============================] - 0s 4ms/step - loss: 0.5374 - accuracy: 0.7880 - val_loss: 0.2569 - val_accuracy: 0.9455\n",
      "\n",
      "Epoch 00112: saving model to model/keypoint_classifier\\keypoint_classifier.hdf5\n",
      "Epoch 113/1000\n",
      "29/29 [==============================] - 0s 4ms/step - loss: 0.5325 - accuracy: 0.7953 - val_loss: 0.2554 - val_accuracy: 0.9463\n",
      "\n",
      "Epoch 00113: saving model to model/keypoint_classifier\\keypoint_classifier.hdf5\n",
      "Epoch 114/1000\n",
      "29/29 [==============================] - 0s 4ms/step - loss: 0.5423 - accuracy: 0.7934 - val_loss: 0.2600 - val_accuracy: 0.9430\n",
      "\n",
      "Epoch 00114: saving model to model/keypoint_classifier\\keypoint_classifier.hdf5\n",
      "Epoch 115/1000\n",
      "29/29 [==============================] - 0s 4ms/step - loss: 0.5222 - accuracy: 0.7997 - val_loss: 0.2564 - val_accuracy: 0.9430\n",
      "\n",
      "Epoch 00115: saving model to model/keypoint_classifier\\keypoint_classifier.hdf5\n",
      "Epoch 116/1000\n",
      "29/29 [==============================] - 0s 5ms/step - loss: 0.5124 - accuracy: 0.8092 - val_loss: 0.2587 - val_accuracy: 0.9447\n",
      "\n",
      "Epoch 00116: saving model to model/keypoint_classifier\\keypoint_classifier.hdf5\n",
      "Epoch 117/1000\n",
      "29/29 [==============================] - 0s 3ms/step - loss: 0.5190 - accuracy: 0.8065 - val_loss: 0.2540 - val_accuracy: 0.9455\n",
      "\n",
      "Epoch 00117: saving model to model/keypoint_classifier\\keypoint_classifier.hdf5\n",
      "Epoch 118/1000\n",
      "29/29 [==============================] - 0s 4ms/step - loss: 0.5152 - accuracy: 0.8051 - val_loss: 0.2490 - val_accuracy: 0.9512\n",
      "\n",
      "Epoch 00118: saving model to model/keypoint_classifier\\keypoint_classifier.hdf5\n",
      "Epoch 119/1000\n",
      "29/29 [==============================] - 0s 4ms/step - loss: 0.5086 - accuracy: 0.8016 - val_loss: 0.2532 - val_accuracy: 0.9447\n",
      "\n",
      "Epoch 00119: saving model to model/keypoint_classifier\\keypoint_classifier.hdf5\n",
      "Epoch 120/1000\n",
      "29/29 [==============================] - 0s 4ms/step - loss: 0.5113 - accuracy: 0.8043 - val_loss: 0.2501 - val_accuracy: 0.9447\n",
      "\n",
      "Epoch 00120: saving model to model/keypoint_classifier\\keypoint_classifier.hdf5\n",
      "Epoch 121/1000\n",
      "29/29 [==============================] - 0s 3ms/step - loss: 0.5101 - accuracy: 0.7978 - val_loss: 0.2489 - val_accuracy: 0.9504\n",
      "\n",
      "Epoch 00121: saving model to model/keypoint_classifier\\keypoint_classifier.hdf5\n",
      "Epoch 122/1000\n",
      "29/29 [==============================] - 0s 4ms/step - loss: 0.5058 - accuracy: 0.8070 - val_loss: 0.2494 - val_accuracy: 0.9487\n",
      "\n",
      "Epoch 00122: saving model to model/keypoint_classifier\\keypoint_classifier.hdf5\n",
      "Epoch 123/1000\n",
      "29/29 [==============================] - 0s 4ms/step - loss: 0.5083 - accuracy: 0.8054 - val_loss: 0.2521 - val_accuracy: 0.9471\n",
      "\n",
      "Epoch 00123: saving model to model/keypoint_classifier\\keypoint_classifier.hdf5\n",
      "Epoch 124/1000\n",
      "29/29 [==============================] - 0s 3ms/step - loss: 0.5278 - accuracy: 0.8056 - val_loss: 0.2513 - val_accuracy: 0.9471\n",
      "\n",
      "Epoch 00124: saving model to model/keypoint_classifier\\keypoint_classifier.hdf5\n",
      "Epoch 125/1000\n",
      "29/29 [==============================] - 0s 4ms/step - loss: 0.5132 - accuracy: 0.8013 - val_loss: 0.2478 - val_accuracy: 0.9471\n",
      "\n",
      "Epoch 00125: saving model to model/keypoint_classifier\\keypoint_classifier.hdf5\n",
      "Epoch 126/1000\n",
      "29/29 [==============================] - 0s 3ms/step - loss: 0.5092 - accuracy: 0.8135 - val_loss: 0.2453 - val_accuracy: 0.9512\n",
      "\n",
      "Epoch 00126: saving model to model/keypoint_classifier\\keypoint_classifier.hdf5\n",
      "Epoch 127/1000\n",
      "29/29 [==============================] - 0s 4ms/step - loss: 0.5082 - accuracy: 0.8143 - val_loss: 0.2519 - val_accuracy: 0.9504\n",
      "\n",
      "Epoch 00127: saving model to model/keypoint_classifier\\keypoint_classifier.hdf5\n",
      "Epoch 128/1000\n",
      "29/29 [==============================] - 0s 4ms/step - loss: 0.5162 - accuracy: 0.8048 - val_loss: 0.2499 - val_accuracy: 0.9479\n",
      "\n",
      "Epoch 00128: saving model to model/keypoint_classifier\\keypoint_classifier.hdf5\n",
      "Epoch 129/1000\n",
      "29/29 [==============================] - 0s 3ms/step - loss: 0.5193 - accuracy: 0.8024 - val_loss: 0.2496 - val_accuracy: 0.9496\n",
      "\n",
      "Epoch 00129: saving model to model/keypoint_classifier\\keypoint_classifier.hdf5\n",
      "Epoch 130/1000\n",
      "29/29 [==============================] - 0s 4ms/step - loss: 0.5136 - accuracy: 0.7956 - val_loss: 0.2511 - val_accuracy: 0.9463\n",
      "\n",
      "Epoch 00130: saving model to model/keypoint_classifier\\keypoint_classifier.hdf5\n",
      "Epoch 131/1000\n",
      "29/29 [==============================] - 0s 3ms/step - loss: 0.5148 - accuracy: 0.8062 - val_loss: 0.2456 - val_accuracy: 0.9471\n",
      "\n",
      "Epoch 00131: saving model to model/keypoint_classifier\\keypoint_classifier.hdf5\n",
      "Epoch 132/1000\n",
      "29/29 [==============================] - 0s 3ms/step - loss: 0.5134 - accuracy: 0.8037 - val_loss: 0.2450 - val_accuracy: 0.9463\n",
      "\n",
      "Epoch 00132: saving model to model/keypoint_classifier\\keypoint_classifier.hdf5\n",
      "Epoch 133/1000\n",
      "29/29 [==============================] - 0s 4ms/step - loss: 0.4924 - accuracy: 0.8149 - val_loss: 0.2361 - val_accuracy: 0.9520\n",
      "\n",
      "Epoch 00133: saving model to model/keypoint_classifier\\keypoint_classifier.hdf5\n",
      "Epoch 134/1000\n",
      "29/29 [==============================] - 0s 3ms/step - loss: 0.5018 - accuracy: 0.8089 - val_loss: 0.2370 - val_accuracy: 0.9487\n",
      "\n",
      "Epoch 00134: saving model to model/keypoint_classifier\\keypoint_classifier.hdf5\n",
      "Epoch 135/1000\n",
      "29/29 [==============================] - 0s 4ms/step - loss: 0.5068 - accuracy: 0.8075 - val_loss: 0.2396 - val_accuracy: 0.9479\n",
      "\n",
      "Epoch 00135: saving model to model/keypoint_classifier\\keypoint_classifier.hdf5\n",
      "Epoch 136/1000\n",
      "29/29 [==============================] - 0s 4ms/step - loss: 0.4920 - accuracy: 0.8184 - val_loss: 0.2315 - val_accuracy: 0.9552\n",
      "\n",
      "Epoch 00136: saving model to model/keypoint_classifier\\keypoint_classifier.hdf5\n",
      "Epoch 137/1000\n",
      "29/29 [==============================] - 0s 4ms/step - loss: 0.5011 - accuracy: 0.8067 - val_loss: 0.2333 - val_accuracy: 0.9536\n",
      "\n",
      "Epoch 00137: saving model to model/keypoint_classifier\\keypoint_classifier.hdf5\n",
      "Epoch 138/1000\n",
      "29/29 [==============================] - 0s 4ms/step - loss: 0.4985 - accuracy: 0.8097 - val_loss: 0.2424 - val_accuracy: 0.9463\n",
      "\n",
      "Epoch 00138: saving model to model/keypoint_classifier\\keypoint_classifier.hdf5\n",
      "Epoch 139/1000\n",
      "29/29 [==============================] - 0s 3ms/step - loss: 0.5034 - accuracy: 0.8105 - val_loss: 0.2392 - val_accuracy: 0.9512\n",
      "\n",
      "Epoch 00139: saving model to model/keypoint_classifier\\keypoint_classifier.hdf5\n",
      "Epoch 140/1000\n",
      "29/29 [==============================] - 0s 4ms/step - loss: 0.5018 - accuracy: 0.8132 - val_loss: 0.2409 - val_accuracy: 0.9561\n",
      "\n",
      "Epoch 00140: saving model to model/keypoint_classifier\\keypoint_classifier.hdf5\n",
      "Epoch 141/1000\n",
      "29/29 [==============================] - 0s 3ms/step - loss: 0.5040 - accuracy: 0.8119 - val_loss: 0.2383 - val_accuracy: 0.9512\n",
      "\n",
      "Epoch 00141: saving model to model/keypoint_classifier\\keypoint_classifier.hdf5\n",
      "Epoch 142/1000\n",
      "29/29 [==============================] - 0s 3ms/step - loss: 0.4886 - accuracy: 0.8132 - val_loss: 0.2370 - val_accuracy: 0.9520\n",
      "\n",
      "Epoch 00142: saving model to model/keypoint_classifier\\keypoint_classifier.hdf5\n",
      "Epoch 143/1000\n",
      "29/29 [==============================] - 0s 3ms/step - loss: 0.5100 - accuracy: 0.8097 - val_loss: 0.2372 - val_accuracy: 0.9552\n",
      "\n",
      "Epoch 00143: saving model to model/keypoint_classifier\\keypoint_classifier.hdf5\n",
      "Epoch 144/1000\n",
      "29/29 [==============================] - 0s 3ms/step - loss: 0.5329 - accuracy: 0.7978 - val_loss: 0.2420 - val_accuracy: 0.9504\n",
      "\n",
      "Epoch 00144: saving model to model/keypoint_classifier\\keypoint_classifier.hdf5\n",
      "Epoch 145/1000\n",
      "29/29 [==============================] - 0s 3ms/step - loss: 0.4943 - accuracy: 0.8111 - val_loss: 0.2354 - val_accuracy: 0.9520\n",
      "\n",
      "Epoch 00145: saving model to model/keypoint_classifier\\keypoint_classifier.hdf5\n",
      "Epoch 146/1000\n",
      "29/29 [==============================] - 0s 3ms/step - loss: 0.4804 - accuracy: 0.8214 - val_loss: 0.2294 - val_accuracy: 0.9520\n",
      "\n",
      "Epoch 00146: saving model to model/keypoint_classifier\\keypoint_classifier.hdf5\n",
      "Epoch 147/1000\n"
     ]
    },
    {
     "name": "stdout",
     "output_type": "stream",
     "text": [
      "29/29 [==============================] - 0s 3ms/step - loss: 0.4967 - accuracy: 0.8146 - val_loss: 0.2320 - val_accuracy: 0.9528\n",
      "\n",
      "Epoch 00147: saving model to model/keypoint_classifier\\keypoint_classifier.hdf5\n",
      "Epoch 148/1000\n",
      "29/29 [==============================] - 0s 3ms/step - loss: 0.4988 - accuracy: 0.8149 - val_loss: 0.2342 - val_accuracy: 0.9520\n",
      "\n",
      "Epoch 00148: saving model to model/keypoint_classifier\\keypoint_classifier.hdf5\n",
      "Epoch 149/1000\n",
      "29/29 [==============================] - 0s 3ms/step - loss: 0.4972 - accuracy: 0.8127 - val_loss: 0.2321 - val_accuracy: 0.9520\n",
      "\n",
      "Epoch 00149: saving model to model/keypoint_classifier\\keypoint_classifier.hdf5\n",
      "Epoch 150/1000\n",
      "29/29 [==============================] - 0s 4ms/step - loss: 0.5029 - accuracy: 0.8084 - val_loss: 0.2361 - val_accuracy: 0.9536\n",
      "\n",
      "Epoch 00150: saving model to model/keypoint_classifier\\keypoint_classifier.hdf5\n",
      "Epoch 151/1000\n",
      "29/29 [==============================] - 0s 3ms/step - loss: 0.4846 - accuracy: 0.8119 - val_loss: 0.2281 - val_accuracy: 0.9569\n",
      "\n",
      "Epoch 00151: saving model to model/keypoint_classifier\\keypoint_classifier.hdf5\n",
      "Epoch 152/1000\n",
      "29/29 [==============================] - 0s 3ms/step - loss: 0.4966 - accuracy: 0.8143 - val_loss: 0.2343 - val_accuracy: 0.9528\n",
      "\n",
      "Epoch 00152: saving model to model/keypoint_classifier\\keypoint_classifier.hdf5\n",
      "Epoch 153/1000\n",
      "29/29 [==============================] - 0s 3ms/step - loss: 0.4976 - accuracy: 0.8135 - val_loss: 0.2299 - val_accuracy: 0.9536\n",
      "\n",
      "Epoch 00153: saving model to model/keypoint_classifier\\keypoint_classifier.hdf5\n",
      "Epoch 154/1000\n",
      "29/29 [==============================] - 0s 4ms/step - loss: 0.4821 - accuracy: 0.8187 - val_loss: 0.2271 - val_accuracy: 0.9577\n",
      "\n",
      "Epoch 00154: saving model to model/keypoint_classifier\\keypoint_classifier.hdf5\n",
      "Epoch 155/1000\n",
      "29/29 [==============================] - 0s 4ms/step - loss: 0.4814 - accuracy: 0.8211 - val_loss: 0.2313 - val_accuracy: 0.9569\n",
      "\n",
      "Epoch 00155: saving model to model/keypoint_classifier\\keypoint_classifier.hdf5\n",
      "Epoch 156/1000\n",
      "29/29 [==============================] - 0s 4ms/step - loss: 0.4852 - accuracy: 0.8165 - val_loss: 0.2328 - val_accuracy: 0.9528\n",
      "\n",
      "Epoch 00156: saving model to model/keypoint_classifier\\keypoint_classifier.hdf5\n",
      "Epoch 157/1000\n",
      "29/29 [==============================] - 0s 3ms/step - loss: 0.4773 - accuracy: 0.8230 - val_loss: 0.2305 - val_accuracy: 0.9536\n",
      "\n",
      "Epoch 00157: saving model to model/keypoint_classifier\\keypoint_classifier.hdf5\n",
      "Epoch 158/1000\n",
      "29/29 [==============================] - 0s 4ms/step - loss: 0.4927 - accuracy: 0.8198 - val_loss: 0.2324 - val_accuracy: 0.9544\n",
      "\n",
      "Epoch 00158: saving model to model/keypoint_classifier\\keypoint_classifier.hdf5\n",
      "Epoch 159/1000\n",
      "29/29 [==============================] - 0s 3ms/step - loss: 0.4855 - accuracy: 0.8141 - val_loss: 0.2257 - val_accuracy: 0.9569\n",
      "\n",
      "Epoch 00159: saving model to model/keypoint_classifier\\keypoint_classifier.hdf5\n",
      "Epoch 160/1000\n",
      "29/29 [==============================] - 0s 4ms/step - loss: 0.4783 - accuracy: 0.8206 - val_loss: 0.2290 - val_accuracy: 0.9528\n",
      "\n",
      "Epoch 00160: saving model to model/keypoint_classifier\\keypoint_classifier.hdf5\n",
      "Epoch 161/1000\n",
      "29/29 [==============================] - 0s 3ms/step - loss: 0.4720 - accuracy: 0.8176 - val_loss: 0.2332 - val_accuracy: 0.9487\n",
      "\n",
      "Epoch 00161: saving model to model/keypoint_classifier\\keypoint_classifier.hdf5\n",
      "Epoch 162/1000\n",
      "29/29 [==============================] - 0s 4ms/step - loss: 0.4917 - accuracy: 0.8084 - val_loss: 0.2326 - val_accuracy: 0.9504\n",
      "\n",
      "Epoch 00162: saving model to model/keypoint_classifier\\keypoint_classifier.hdf5\n",
      "Epoch 163/1000\n",
      "29/29 [==============================] - 0s 3ms/step - loss: 0.4757 - accuracy: 0.8252 - val_loss: 0.2323 - val_accuracy: 0.9520\n",
      "\n",
      "Epoch 00163: saving model to model/keypoint_classifier\\keypoint_classifier.hdf5\n",
      "Epoch 164/1000\n",
      "29/29 [==============================] - 0s 3ms/step - loss: 0.4723 - accuracy: 0.8203 - val_loss: 0.2328 - val_accuracy: 0.9487\n",
      "\n",
      "Epoch 00164: saving model to model/keypoint_classifier\\keypoint_classifier.hdf5\n",
      "Epoch 165/1000\n",
      "29/29 [==============================] - 0s 3ms/step - loss: 0.4758 - accuracy: 0.8252 - val_loss: 0.2343 - val_accuracy: 0.9471\n",
      "\n",
      "Epoch 00165: saving model to model/keypoint_classifier\\keypoint_classifier.hdf5\n",
      "Epoch 166/1000\n",
      "29/29 [==============================] - 0s 3ms/step - loss: 0.4699 - accuracy: 0.8230 - val_loss: 0.2257 - val_accuracy: 0.9496\n",
      "\n",
      "Epoch 00166: saving model to model/keypoint_classifier\\keypoint_classifier.hdf5\n",
      "Epoch 167/1000\n",
      "29/29 [==============================] - 0s 3ms/step - loss: 0.4967 - accuracy: 0.8132 - val_loss: 0.2256 - val_accuracy: 0.9536\n",
      "\n",
      "Epoch 00167: saving model to model/keypoint_classifier\\keypoint_classifier.hdf5\n",
      "Epoch 168/1000\n",
      "29/29 [==============================] - 0s 3ms/step - loss: 0.4790 - accuracy: 0.8208 - val_loss: 0.2304 - val_accuracy: 0.9512\n",
      "\n",
      "Epoch 00168: saving model to model/keypoint_classifier\\keypoint_classifier.hdf5\n",
      "Epoch 169/1000\n",
      "29/29 [==============================] - 0s 3ms/step - loss: 0.4739 - accuracy: 0.8255 - val_loss: 0.2230 - val_accuracy: 0.9536\n",
      "\n",
      "Epoch 00169: saving model to model/keypoint_classifier\\keypoint_classifier.hdf5\n",
      "Epoch 170/1000\n",
      "29/29 [==============================] - 0s 3ms/step - loss: 0.4808 - accuracy: 0.8211 - val_loss: 0.2271 - val_accuracy: 0.9544\n",
      "\n",
      "Epoch 00170: saving model to model/keypoint_classifier\\keypoint_classifier.hdf5\n",
      "Epoch 171/1000\n",
      "29/29 [==============================] - 0s 3ms/step - loss: 0.4820 - accuracy: 0.8151 - val_loss: 0.2216 - val_accuracy: 0.9569\n",
      "\n",
      "Epoch 00171: saving model to model/keypoint_classifier\\keypoint_classifier.hdf5\n",
      "Epoch 172/1000\n",
      "29/29 [==============================] - 0s 4ms/step - loss: 0.4515 - accuracy: 0.8293 - val_loss: 0.2272 - val_accuracy: 0.9512\n",
      "\n",
      "Epoch 00172: saving model to model/keypoint_classifier\\keypoint_classifier.hdf5\n",
      "Epoch 173/1000\n",
      "29/29 [==============================] - 0s 3ms/step - loss: 0.4737 - accuracy: 0.8219 - val_loss: 0.2243 - val_accuracy: 0.9552\n",
      "\n",
      "Epoch 00173: saving model to model/keypoint_classifier\\keypoint_classifier.hdf5\n",
      "Epoch 174/1000\n",
      "29/29 [==============================] - 0s 4ms/step - loss: 0.4912 - accuracy: 0.8181 - val_loss: 0.2326 - val_accuracy: 0.9528\n",
      "\n",
      "Epoch 00174: saving model to model/keypoint_classifier\\keypoint_classifier.hdf5\n",
      "Epoch 175/1000\n",
      "29/29 [==============================] - 0s 4ms/step - loss: 0.4776 - accuracy: 0.8179 - val_loss: 0.2234 - val_accuracy: 0.9585\n",
      "\n",
      "Epoch 00175: saving model to model/keypoint_classifier\\keypoint_classifier.hdf5\n",
      "Epoch 176/1000\n",
      "29/29 [==============================] - 0s 3ms/step - loss: 0.4733 - accuracy: 0.8208 - val_loss: 0.2311 - val_accuracy: 0.9512\n",
      "\n",
      "Epoch 00176: saving model to model/keypoint_classifier\\keypoint_classifier.hdf5\n",
      "Epoch 177/1000\n",
      "29/29 [==============================] - 0s 4ms/step - loss: 0.4789 - accuracy: 0.8157 - val_loss: 0.2313 - val_accuracy: 0.9528\n",
      "\n",
      "Epoch 00177: saving model to model/keypoint_classifier\\keypoint_classifier.hdf5\n",
      "Epoch 178/1000\n",
      "29/29 [==============================] - 0s 4ms/step - loss: 0.4846 - accuracy: 0.8219 - val_loss: 0.2358 - val_accuracy: 0.9520\n",
      "\n",
      "Epoch 00178: saving model to model/keypoint_classifier\\keypoint_classifier.hdf5\n",
      "Epoch 179/1000\n",
      "29/29 [==============================] - 0s 3ms/step - loss: 0.4587 - accuracy: 0.8282 - val_loss: 0.2340 - val_accuracy: 0.9528\n",
      "\n",
      "Epoch 00179: saving model to model/keypoint_classifier\\keypoint_classifier.hdf5\n",
      "Epoch 180/1000\n",
      "29/29 [==============================] - 0s 3ms/step - loss: 0.4715 - accuracy: 0.8208 - val_loss: 0.2242 - val_accuracy: 0.9536\n",
      "\n",
      "Epoch 00180: saving model to model/keypoint_classifier\\keypoint_classifier.hdf5\n",
      "Epoch 181/1000\n",
      "29/29 [==============================] - 0s 3ms/step - loss: 0.4774 - accuracy: 0.8173 - val_loss: 0.2387 - val_accuracy: 0.9512\n",
      "\n",
      "Epoch 00181: saving model to model/keypoint_classifier\\keypoint_classifier.hdf5\n",
      "Epoch 182/1000\n",
      "29/29 [==============================] - 0s 4ms/step - loss: 0.4724 - accuracy: 0.8241 - val_loss: 0.2295 - val_accuracy: 0.9520\n",
      "\n",
      "Epoch 00182: saving model to model/keypoint_classifier\\keypoint_classifier.hdf5\n",
      "Epoch 183/1000\n",
      "29/29 [==============================] - 0s 3ms/step - loss: 0.4623 - accuracy: 0.8233 - val_loss: 0.2250 - val_accuracy: 0.9512\n"
     ]
    },
    {
     "name": "stdout",
     "output_type": "stream",
     "text": [
      "\n",
      "Epoch 00183: saving model to model/keypoint_classifier\\keypoint_classifier.hdf5\n",
      "Epoch 184/1000\n",
      "29/29 [==============================] - 0s 3ms/step - loss: 0.4853 - accuracy: 0.8263 - val_loss: 0.2281 - val_accuracy: 0.9561\n",
      "\n",
      "Epoch 00184: saving model to model/keypoint_classifier\\keypoint_classifier.hdf5\n",
      "Epoch 185/1000\n",
      "29/29 [==============================] - 0s 3ms/step - loss: 0.4626 - accuracy: 0.8309 - val_loss: 0.2283 - val_accuracy: 0.9544\n",
      "\n",
      "Epoch 00185: saving model to model/keypoint_classifier\\keypoint_classifier.hdf5\n",
      "Epoch 186/1000\n",
      "29/29 [==============================] - 0s 3ms/step - loss: 0.4868 - accuracy: 0.8195 - val_loss: 0.2297 - val_accuracy: 0.9512\n",
      "\n",
      "Epoch 00186: saving model to model/keypoint_classifier\\keypoint_classifier.hdf5\n",
      "Epoch 187/1000\n",
      "29/29 [==============================] - 0s 3ms/step - loss: 0.4676 - accuracy: 0.8230 - val_loss: 0.2255 - val_accuracy: 0.9544\n",
      "\n",
      "Epoch 00187: saving model to model/keypoint_classifier\\keypoint_classifier.hdf5\n",
      "Epoch 188/1000\n",
      "29/29 [==============================] - 0s 3ms/step - loss: 0.4781 - accuracy: 0.8225 - val_loss: 0.2242 - val_accuracy: 0.9552\n",
      "\n",
      "Epoch 00188: saving model to model/keypoint_classifier\\keypoint_classifier.hdf5\n",
      "Epoch 189/1000\n",
      "29/29 [==============================] - 0s 4ms/step - loss: 0.4627 - accuracy: 0.8282 - val_loss: 0.2279 - val_accuracy: 0.9536\n",
      "\n",
      "Epoch 00189: saving model to model/keypoint_classifier\\keypoint_classifier.hdf5\n",
      "Epoch 190/1000\n",
      "29/29 [==============================] - 0s 3ms/step - loss: 0.4700 - accuracy: 0.8225 - val_loss: 0.2267 - val_accuracy: 0.9544\n",
      "\n",
      "Epoch 00190: saving model to model/keypoint_classifier\\keypoint_classifier.hdf5\n",
      "Epoch 191/1000\n",
      "29/29 [==============================] - 0s 3ms/step - loss: 0.4560 - accuracy: 0.8284 - val_loss: 0.2226 - val_accuracy: 0.9552\n",
      "\n",
      "Epoch 00191: saving model to model/keypoint_classifier\\keypoint_classifier.hdf5\n",
      "Epoch 00191: early stopping\n"
     ]
    },
    {
     "data": {
      "text/plain": [
       "<keras.callbacks.History at 0x17f2fab53d0>"
      ]
     },
     "execution_count": 11,
     "metadata": {},
     "output_type": "execute_result"
    }
   ],
   "source": [
    "model.fit(\n",
    "    X_train,\n",
    "    y_train,\n",
    "    epochs=1000,\n",
    "    batch_size=128,\n",
    "    validation_data=(X_test, y_test),\n",
    "    callbacks=[cp_callback, es_callback]\n",
    ")"
   ]
  },
  {
   "cell_type": "code",
   "execution_count": 12,
   "metadata": {
    "colab": {
     "base_uri": "https://localhost:8080/"
    },
    "id": "pxvb2Y299hE3",
    "outputId": "59eb3185-2e37-4b9e-bc9d-ab1b8ac29b7f"
   },
   "outputs": [
    {
     "name": "stdout",
     "output_type": "stream",
     "text": [
      "10/10 [==============================] - 0s 1ms/step - loss: 0.2226 - accuracy: 0.9552\n"
     ]
    }
   ],
   "source": [
    "# Model evaluation\n",
    "val_loss, val_acc = model.evaluate(X_test, y_test, batch_size=128)"
   ]
  },
  {
   "cell_type": "code",
   "execution_count": 13,
   "metadata": {
    "id": "RBkmDeUW9hE4"
   },
   "outputs": [],
   "source": [
    "# Loading the saved model\n",
    "model = tf.keras.models.load_model(model_save_path)"
   ]
  },
  {
   "cell_type": "code",
   "execution_count": 14,
   "metadata": {
    "colab": {
     "base_uri": "https://localhost:8080/"
    },
    "id": "tFz9Tb0I9hE4",
    "outputId": "1c3b3528-54ae-4ee2-ab04-77429211cbef"
   },
   "outputs": [
    {
     "name": "stdout",
     "output_type": "stream",
     "text": [
      "[4.1943607e-03 9.7713304e-01 1.6770843e-02 1.1213697e-03 7.8029750e-04]\n",
      "1\n"
     ]
    }
   ],
   "source": [
    "# Inference test\n",
    "predict_result = model.predict(np.array([X_test[0]]))\n",
    "print(np.squeeze(predict_result))\n",
    "print(np.argmax(np.squeeze(predict_result)))"
   ]
  },
  {
   "cell_type": "markdown",
   "metadata": {
    "id": "S3U4yNWx9hE4"
   },
   "source": [
    "# Confusion matrix"
   ]
  },
  {
   "cell_type": "code",
   "execution_count": 15,
   "metadata": {
    "colab": {
     "base_uri": "https://localhost:8080/",
     "height": 582
    },
    "id": "AP1V6SCk9hE5",
    "outputId": "08e41a80-7a4a-4619-8125-ecc371368d19"
   },
   "outputs": [
    {
     "ename": "ModuleNotFoundError",
     "evalue": "No module named 'seaborn'",
     "output_type": "error",
     "traceback": [
      "\u001b[1;31m---------------------------------------------------------------------------\u001b[0m",
      "\u001b[1;31mModuleNotFoundError\u001b[0m                       Traceback (most recent call last)",
      "\u001b[1;32mC:\\Users\\PIDRUZ~1\\AppData\\Local\\Temp/ipykernel_14676/423758217.py\u001b[0m in \u001b[0;36m<module>\u001b[1;34m\u001b[0m\n\u001b[0;32m      1\u001b[0m \u001b[1;32mimport\u001b[0m \u001b[0mpandas\u001b[0m \u001b[1;32mas\u001b[0m \u001b[0mpd\u001b[0m\u001b[1;33m\u001b[0m\u001b[1;33m\u001b[0m\u001b[0m\n\u001b[1;32m----> 2\u001b[1;33m \u001b[1;32mimport\u001b[0m \u001b[0mseaborn\u001b[0m \u001b[1;32mas\u001b[0m \u001b[0msns\u001b[0m\u001b[1;33m\u001b[0m\u001b[1;33m\u001b[0m\u001b[0m\n\u001b[0m\u001b[0;32m      3\u001b[0m \u001b[1;32mimport\u001b[0m \u001b[0mmatplotlib\u001b[0m\u001b[1;33m.\u001b[0m\u001b[0mpyplot\u001b[0m \u001b[1;32mas\u001b[0m \u001b[0mplt\u001b[0m\u001b[1;33m\u001b[0m\u001b[1;33m\u001b[0m\u001b[0m\n\u001b[0;32m      4\u001b[0m \u001b[1;32mfrom\u001b[0m \u001b[0msklearn\u001b[0m\u001b[1;33m.\u001b[0m\u001b[0mmetrics\u001b[0m \u001b[1;32mimport\u001b[0m \u001b[0mconfusion_matrix\u001b[0m\u001b[1;33m,\u001b[0m \u001b[0mclassification_report\u001b[0m\u001b[1;33m\u001b[0m\u001b[1;33m\u001b[0m\u001b[0m\n\u001b[0;32m      5\u001b[0m \u001b[1;33m\u001b[0m\u001b[0m\n",
      "\u001b[1;31mModuleNotFoundError\u001b[0m: No module named 'seaborn'"
     ]
    }
   ],
   "source": [
    "import pandas as pd\n",
    "import seaborn as sns\n",
    "import matplotlib.pyplot as plt\n",
    "from sklearn.metrics import confusion_matrix, classification_report\n",
    "\n",
    "def print_confusion_matrix(y_true, y_pred, report=True):\n",
    "    labels = sorted(list(set(y_true)))\n",
    "    cmx_data = confusion_matrix(y_true, y_pred, labels=labels)\n",
    "    \n",
    "    df_cmx = pd.DataFrame(cmx_data, index=labels, columns=labels)\n",
    " \n",
    "    fig, ax = plt.subplots(figsize=(7, 6))\n",
    "    sns.heatmap(df_cmx, annot=True, fmt='g' ,square=False)\n",
    "    ax.set_ylim(len(set(y_true)), 0)\n",
    "    plt.show()\n",
    "    \n",
    "    if report:\n",
    "        print('Classification Report')\n",
    "        print(classification_report(y_test, y_pred))\n",
    "\n",
    "Y_pred = model.predict(X_test)\n",
    "y_pred = np.argmax(Y_pred, axis=1)\n",
    "\n",
    "print_confusion_matrix(y_test, y_pred)"
   ]
  },
  {
   "cell_type": "markdown",
   "metadata": {
    "id": "FNP6aqzc9hE5"
   },
   "source": [
    "# Convert to model for Tensorflow-Lite"
   ]
  },
  {
   "cell_type": "code",
   "execution_count": null,
   "metadata": {
    "id": "ODjnYyld9hE6"
   },
   "outputs": [],
   "source": [
    "# Save as a model dedicated to inference\n",
    "model.save(model_save_path, include_optimizer=False)"
   ]
  },
  {
   "cell_type": "code",
   "execution_count": null,
   "metadata": {
    "colab": {
     "base_uri": "https://localhost:8080/"
    },
    "id": "zRfuK8Y59hE6",
    "outputId": "a4ca585c-b5d5-4244-8291-8674063209bb"
   },
   "outputs": [],
   "source": [
    "# Transform model (quantization)\n",
    "\n",
    "converter = tf.lite.TFLiteConverter.from_keras_model(model)\n",
    "converter.optimizations = [tf.lite.Optimize.DEFAULT]\n",
    "tflite_quantized_model = converter.convert()\n",
    "\n",
    "open(tflite_save_path, 'wb').write(tflite_quantized_model)"
   ]
  },
  {
   "cell_type": "markdown",
   "metadata": {
    "id": "CHBPBXdx9hE6"
   },
   "source": [
    "# Inference test"
   ]
  },
  {
   "cell_type": "code",
   "execution_count": null,
   "metadata": {
    "id": "mGAzLocO9hE7"
   },
   "outputs": [],
   "source": [
    "interpreter = tf.lite.Interpreter(model_path=tflite_save_path)\n",
    "interpreter.allocate_tensors()"
   ]
  },
  {
   "cell_type": "code",
   "execution_count": null,
   "metadata": {
    "id": "oQuDK8YS9hE7"
   },
   "outputs": [],
   "source": [
    "# Get I / O tensor\n",
    "input_details = interpreter.get_input_details()\n",
    "output_details = interpreter.get_output_details()"
   ]
  },
  {
   "cell_type": "code",
   "execution_count": null,
   "metadata": {
    "id": "2_ixAf_l9hE7"
   },
   "outputs": [],
   "source": [
    "interpreter.set_tensor(input_details[0]['index'], np.array([X_test[0]]))"
   ]
  },
  {
   "cell_type": "code",
   "execution_count": null,
   "metadata": {
    "colab": {
     "base_uri": "https://localhost:8080/"
    },
    "id": "s4FoAnuc9hE7",
    "outputId": "91f18257-8d8b-4ef3-c558-e9b5f94fabbf",
    "scrolled": true
   },
   "outputs": [],
   "source": [
    "%%time\n",
    "# Inference implementation\n",
    "interpreter.invoke()\n",
    "tflite_results = interpreter.get_tensor(output_details[0]['index'])"
   ]
  },
  {
   "cell_type": "code",
   "execution_count": null,
   "metadata": {
    "colab": {
     "base_uri": "https://localhost:8080/"
    },
    "id": "vONjp19J9hE8",
    "outputId": "77205e24-fd00-42c4-f7b6-e06e527c2cba"
   },
   "outputs": [],
   "source": [
    "print(np.squeeze(tflite_results))\n",
    "print(np.argmax(np.squeeze(tflite_results)))"
   ]
  }
 ],
 "metadata": {
  "accelerator": "GPU",
  "colab": {
   "collapsed_sections": [],
   "name": "keypoint_classification_EN.ipynb",
   "provenance": [],
   "toc_visible": true
  },
  "kernelspec": {
   "display_name": "Python 3 (ipykernel)",
   "language": "python",
   "name": "python3"
  },
  "language_info": {
   "codemirror_mode": {
    "name": "ipython",
    "version": 3
   },
   "file_extension": ".py",
   "mimetype": "text/x-python",
   "name": "python",
   "nbconvert_exporter": "python",
   "pygments_lexer": "ipython3",
   "version": "3.9.5"
  }
 },
 "nbformat": 4,
 "nbformat_minor": 1
}
